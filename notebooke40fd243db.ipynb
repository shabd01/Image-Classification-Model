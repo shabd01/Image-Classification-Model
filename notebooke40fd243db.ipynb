{
  "metadata": {
    "kernelspec": {
      "language": "python",
      "display_name": "Python 3",
      "name": "python3"
    },
    "language_info": {
      "pygments_lexer": "ipython3",
      "nbconvert_exporter": "python",
      "version": "3.6.4",
      "file_extension": ".py",
      "codemirror_mode": {
        "name": "ipython",
        "version": 3
      },
      "name": "python",
      "mimetype": "text/x-python"
    },
    "colab": {
      "name": "notebooke40fd243db",
      "provenance": [],
      "include_colab_link": true
    }
  },
  "nbformat_minor": 0,
  "nbformat": 4,
  "cells": [
    {
      "cell_type": "markdown",
      "metadata": {
        "id": "view-in-github",
        "colab_type": "text"
      },
      "source": [
        "<a href=\"https://colab.research.google.com/github/shabd01/Image-Classification-Model/blob/main/notebooke40fd243db.ipynb\" target=\"_parent\"><img src=\"https://colab.research.google.com/assets/colab-badge.svg\" alt=\"Open In Colab\"/></a>"
      ]
    },
    {
      "source": [
        "\n",
        "# IMPORTANT: RUN THIS CELL IN ORDER TO IMPORT YOUR KAGGLE DATA SOURCES\n",
        "# TO THE CORRECT LOCATION (/kaggle/input) IN YOUR NOTEBOOK,\n",
        "# THEN FEEL FREE TO DELETE THIS CELL.\n",
        "# NOTE: THIS NOTEBOOK ENVIRONMENT DIFFERS FROM KAGGLE'S PYTHON\n",
        "# ENVIRONMENT SO THERE MAY BE MISSING LIBRARIES USED BY YOUR\n",
        "# NOTEBOOK.\n",
        "\n",
        "import os\n",
        "import sys\n",
        "from tempfile import NamedTemporaryFile\n",
        "from urllib.request import urlopen\n",
        "from urllib.parse import unquote, urlparse\n",
        "from urllib.error import HTTPError\n",
        "from zipfile import ZipFile\n",
        "import tarfile\n",
        "import shutil\n",
        "\n",
        "CHUNK_SIZE = 40960\n",
        "DATA_SOURCE_MAPPING = 'image-classification-2:https%3A%2F%2Fstorage.googleapis.com%2Fkaggle-competitions-data%2Fkaggle-v2%2F35049%2F3311124%2Fbundle%2Farchive.zip%3FX-Goog-Algorithm%3DGOOG4-RSA-SHA256%26X-Goog-Credential%3Dgcp-kaggle-com%2540kaggle-161607.iam.gserviceaccount.com%252F20240401%252Fauto%252Fstorage%252Fgoog4_request%26X-Goog-Date%3D20240401T033416Z%26X-Goog-Expires%3D259200%26X-Goog-SignedHeaders%3Dhost%26X-Goog-Signature%3D219c8605d4aaa4bdd7e909e87419d06ac8807f3bf61744e1cf6d43a9d1c89fc5db96bc4549281fc7f658981a64277d8f0f02bef0af0cda28b4e9e54bfa92cd510bff2696f105c954c93890aa17a02d85df14849e3ca3cb2748e7cf89cfce9b0c7c497265d25a73824cd2db616e23ef2d1af590aa6232209b0b99bcf76c585f8182fcb76b0d4f767120a3b18320d344c408fb09c198a1fb6ba91d50101f24ae937af0927d3a6db9189be71dfd677423a0ad7dd97fbfdc62161ad6bd9223078d559010dde0434c77c73685776947c5ec072ed535c773f3b422d168dbee44439ee048d18b47af05e26b6eb299ae18a197b36567f69ecfc55d656d2f043b119fb471'\n",
        "\n",
        "KAGGLE_INPUT_PATH='/kaggle/input'\n",
        "KAGGLE_WORKING_PATH='/kaggle/working'\n",
        "KAGGLE_SYMLINK='kaggle'\n",
        "\n",
        "!umount /kaggle/input/ 2> /dev/null\n",
        "shutil.rmtree('/kaggle/input', ignore_errors=True)\n",
        "os.makedirs(KAGGLE_INPUT_PATH, 0o777, exist_ok=True)\n",
        "os.makedirs(KAGGLE_WORKING_PATH, 0o777, exist_ok=True)\n",
        "\n",
        "try:\n",
        "  os.symlink(KAGGLE_INPUT_PATH, os.path.join(\"..\", 'input'), target_is_directory=True)\n",
        "except FileExistsError:\n",
        "  pass\n",
        "try:\n",
        "  os.symlink(KAGGLE_WORKING_PATH, os.path.join(\"..\", 'working'), target_is_directory=True)\n",
        "except FileExistsError:\n",
        "  pass\n",
        "\n",
        "for data_source_mapping in DATA_SOURCE_MAPPING.split(','):\n",
        "    directory, download_url_encoded = data_source_mapping.split(':')\n",
        "    download_url = unquote(download_url_encoded)\n",
        "    filename = urlparse(download_url).path\n",
        "    destination_path = os.path.join(KAGGLE_INPUT_PATH, directory)\n",
        "    try:\n",
        "        with urlopen(download_url) as fileres, NamedTemporaryFile() as tfile:\n",
        "            total_length = fileres.headers['content-length']\n",
        "            print(f'Downloading {directory}, {total_length} bytes compressed')\n",
        "            dl = 0\n",
        "            data = fileres.read(CHUNK_SIZE)\n",
        "            while len(data) > 0:\n",
        "                dl += len(data)\n",
        "                tfile.write(data)\n",
        "                done = int(50 * dl / int(total_length))\n",
        "                sys.stdout.write(f\"\\r[{'=' * done}{' ' * (50-done)}] {dl} bytes downloaded\")\n",
        "                sys.stdout.flush()\n",
        "                data = fileres.read(CHUNK_SIZE)\n",
        "            if filename.endswith('.zip'):\n",
        "              with ZipFile(tfile) as zfile:\n",
        "                zfile.extractall(destination_path)\n",
        "            else:\n",
        "              with tarfile.open(tfile.name) as tarfile:\n",
        "                tarfile.extractall(destination_path)\n",
        "            print(f'\\nDownloaded and uncompressed: {directory}')\n",
        "    except HTTPError as e:\n",
        "        print(f'Failed to load (likely expired) {download_url} to path {destination_path}')\n",
        "        continue\n",
        "    except OSError as e:\n",
        "        print(f'Failed to load {download_url} to path {destination_path}')\n",
        "        continue\n",
        "\n",
        "print('Data source import complete.')\n"
      ],
      "metadata": {
        "id": "sLpIZK6Lujrk"
      },
      "cell_type": "code",
      "outputs": [],
      "execution_count": null
    },
    {
      "cell_type": "code",
      "source": [
        "import keras\n",
        "from tensorflow.keras import layers\n",
        "from tensorflow.keras.preprocessing.image import ImageDataGenerator\n",
        "from keras.models import Sequential\n",
        "from keras.layers import Dense, Dropout, Flatten\n",
        "from keras.layers import Conv2D, MaxPooling2D, BatchNormalization\n",
        "from tensorflow.keras.optimizers import Adam\n",
        "from tensorflow.keras.utils import to_categorical\n",
        "from tensorflow.keras.losses import categorical_crossentropy\n",
        "from tensorflow.keras.callbacks import ModelCheckpoint\n",
        "from tensorflow.keras.models import load_model\n",
        "from keras.preprocessing import image\n",
        "import numpy as np\n",
        "import pandas as pd\n",
        "import matplotlib.pyplot as plt\n",
        "from sklearn.model_selection import train_test_split\n",
        "from tensorflow.keras.utils import to_categorical\n",
        "from tqdm import tqdm\n",
        "import os.path\n",
        "import keras_tuner as kt\n",
        "import cv2\n"
      ],
      "metadata": {
        "execution": {
          "iopub.status.busy": "2022-03-24T12:00:52.450789Z",
          "iopub.execute_input": "2022-03-24T12:00:52.451172Z",
          "iopub.status.idle": "2022-03-24T12:00:59.583995Z",
          "shell.execute_reply.started": "2022-03-24T12:00:52.451059Z",
          "shell.execute_reply": "2022-03-24T12:00:59.583151Z"
        },
        "trusted": true,
        "id": "Bc2GvekUujrp"
      },
      "execution_count": null,
      "outputs": []
    },
    {
      "cell_type": "code",
      "source": [
        "from PIL import Image\n",
        "import os\n",
        "import PIL\n",
        "import glob"
      ],
      "metadata": {
        "execution": {
          "iopub.status.busy": "2022-03-24T12:01:06.093611Z",
          "iopub.execute_input": "2022-03-24T12:01:06.093912Z",
          "iopub.status.idle": "2022-03-24T12:01:06.099336Z",
          "shell.execute_reply.started": "2022-03-24T12:01:06.093879Z",
          "shell.execute_reply": "2022-03-24T12:01:06.0982Z"
        },
        "trusted": true,
        "id": "TjSFUQC0ujrq"
      },
      "execution_count": null,
      "outputs": []
    },
    {
      "cell_type": "code",
      "source": [
        "train = pd.read_csv('../input/image-classification-2/train_label.csv')"
      ],
      "metadata": {
        "execution": {
          "iopub.status.busy": "2022-03-24T12:01:08.204286Z",
          "iopub.execute_input": "2022-03-24T12:01:08.205006Z",
          "iopub.status.idle": "2022-03-24T12:01:08.264332Z",
          "shell.execute_reply.started": "2022-03-24T12:01:08.20496Z",
          "shell.execute_reply": "2022-03-24T12:01:08.263418Z"
        },
        "trusted": true,
        "id": "ZNaKlcp0ujrq"
      },
      "execution_count": null,
      "outputs": []
    },
    {
      "cell_type": "code",
      "source": [
        "train_image = []\n",
        "for i in tqdm(range(10)):\n",
        "    img = image.load_img('../input/image-classification-2/train/'+'Image_00000' + str(i) +'.jpg', target_size= None, grayscale=False)\n",
        "    resized_image = img.resize((60,60))\n",
        "    img = image.img_to_array(resized_image)\n",
        "    img = img/255\n",
        "    train_image.append(img)\n",
        "for i in tqdm(range(10,100)):\n",
        "    img = image.load_img('../input/image-classification-2/train/'+'Image_0000' + str(i) +'.jpg', target_size= None, grayscale=False)\n",
        "    resized_image = img.resize((60,60))\n",
        "    img = image.img_to_array(resized_image)\n",
        "    img = img/255\n",
        "    train_image.append(img)\n",
        "for i in tqdm(range(100,1000)):\n",
        "    img = image.load_img('../input/image-classification-2/train/'+'Image_000' + str(i) +'.jpg', target_size= None, grayscale=False)\n",
        "    resized_image = img.resize((60,60))\n",
        "    img = image.img_to_array(resized_image)\n",
        "    img = img/255\n",
        "    train_image.append(img)\n",
        "for i in tqdm(range(1000,10000)):\n",
        "    if os.path.exists('../input/image-classification-2/train/'+'Image_00' + str(i) +'.jpg'):\n",
        "       img = image.load_img('../input/image-classification-2/train/'+'Image_00' + str(i) +'.jpg', target_size= None, grayscale=False)\n",
        "    else :\n",
        "       continue\n",
        "    resized_image = img.resize((60,60))\n",
        "    img = image.img_to_array(resized_image)\n",
        "    img = img/255\n",
        "    train_image.append(img)\n",
        "for i in tqdm(range(10000,31838)):\n",
        "    if os.path.exists('../input/image-classification-2/train/'+'Image_0' + str(i) +'.jpg'):\n",
        "      img = image.load_img('../input/image-classification-2/train/'+'Image_0' + str(i) +'.jpg', target_size= None, grayscale=False)\n",
        "    else :\n",
        "       continue\n",
        "    resized_image = img.resize((60,60))\n",
        "    img = image.img_to_array(resized_image)\n",
        "    img = img/255\n",
        "    train_image.append(img)\n",
        "X = np.array(train_image)"
      ],
      "metadata": {
        "execution": {
          "iopub.status.busy": "2022-03-24T12:01:10.269681Z",
          "iopub.execute_input": "2022-03-24T12:01:10.269972Z",
          "iopub.status.idle": "2022-03-24T12:24:07.5066Z",
          "shell.execute_reply.started": "2022-03-24T12:01:10.269942Z",
          "shell.execute_reply": "2022-03-24T12:24:07.505153Z"
        },
        "trusted": true,
        "id": "7T3mKOnKujrq"
      },
      "execution_count": null,
      "outputs": []
    },
    {
      "cell_type": "code",
      "source": [
        "y=train['label'].values\n",
        "y = to_categorical(y)\n",
        "len(y)\n"
      ],
      "metadata": {
        "execution": {
          "iopub.status.busy": "2022-03-24T12:24:07.509752Z",
          "iopub.execute_input": "2022-03-24T12:24:07.510067Z",
          "iopub.status.idle": "2022-03-24T12:24:07.544929Z",
          "shell.execute_reply.started": "2022-03-24T12:24:07.510032Z",
          "shell.execute_reply": "2022-03-24T12:24:07.543797Z"
        },
        "trusted": true,
        "id": "C2BA9-g-ujrr"
      },
      "execution_count": null,
      "outputs": []
    },
    {
      "cell_type": "code",
      "source": [
        "X_train, X_test, y_train, y_test = train_test_split(X, y, random_state=42, test_size=0.2)"
      ],
      "metadata": {
        "execution": {
          "iopub.status.busy": "2022-03-24T12:24:14.444319Z",
          "iopub.execute_input": "2022-03-24T12:24:14.444648Z",
          "iopub.status.idle": "2022-03-24T12:24:17.3903Z",
          "shell.execute_reply.started": "2022-03-24T12:24:14.444605Z",
          "shell.execute_reply": "2022-03-24T12:24:17.389257Z"
        },
        "trusted": true,
        "id": "-NAoZT4tujrr"
      },
      "execution_count": null,
      "outputs": []
    },
    {
      "cell_type": "code",
      "source": [
        "aug = ImageDataGenerator(rotation_range=30, width_shift_range=0.1,\n",
        "\theight_shift_range=0.4, shear_range=0.5, zoom_range=0.5,\n",
        "\thorizontal_flip=True, fill_mode=\"nearest\")"
      ],
      "metadata": {
        "id": "L3D7ZWmPujrr"
      },
      "execution_count": null,
      "outputs": []
    },
    {
      "cell_type": "code",
      "source": [
        "model = Sequential()\n",
        "model.add(Conv2D(32, kernel_size=(3, 3),activation='relu',input_shape=(60,60,3)))\n",
        "model.add(Conv2D(64, (3, 3), activation='relu'))\n",
        "model.add(MaxPooling2D(pool_size=(2, 2)))\n",
        "model.add(Dropout(0.25))\n",
        "model.add(Flatten())\n",
        "model.add(Dense(128, activation='relu'))\n",
        "model.add(Dropout(0.5))\n",
        "model.add(Dense(11, activation='softmax'))\n"
      ],
      "metadata": {
        "execution": {
          "iopub.status.busy": "2022-03-24T12:24:48.276076Z",
          "iopub.execute_input": "2022-03-24T12:24:48.276412Z",
          "iopub.status.idle": "2022-03-24T12:24:48.437374Z",
          "shell.execute_reply.started": "2022-03-24T12:24:48.27638Z",
          "shell.execute_reply": "2022-03-24T12:24:48.436331Z"
        },
        "trusted": true,
        "id": "I1U848Feujrs"
      },
      "execution_count": null,
      "outputs": []
    },
    {
      "cell_type": "code",
      "source": [
        "model.compile(optimizer='adam', loss='categorical_crossentropy', metrics=['accuracy'])"
      ],
      "metadata": {
        "execution": {
          "iopub.status.busy": "2022-03-24T12:25:42.121278Z",
          "iopub.execute_input": "2022-03-24T12:25:42.121631Z",
          "iopub.status.idle": "2022-03-24T12:25:42.142375Z",
          "shell.execute_reply.started": "2022-03-24T12:25:42.121597Z",
          "shell.execute_reply": "2022-03-24T12:25:42.141211Z"
        },
        "trusted": true,
        "id": "RHnLXDiEujrs"
      },
      "execution_count": null,
      "outputs": []
    },
    {
      "cell_type": "code",
      "source": [
        "model.fit(x=aug.flow(X_train, y_train, batch_size=64),\n",
        "                    epochs = 15,\n",
        "                    validation_data = (X_test, y_test))"
      ],
      "metadata": {
        "execution": {
          "iopub.status.busy": "2022-03-24T12:25:47.815519Z",
          "iopub.execute_input": "2022-03-24T12:25:47.816197Z",
          "iopub.status.idle": "2022-03-24T13:57:16.639088Z",
          "shell.execute_reply.started": "2022-03-24T12:25:47.816154Z",
          "shell.execute_reply": "2022-03-24T13:57:16.638369Z"
        },
        "trusted": true,
        "id": "vmqsAySNujrt"
      },
      "execution_count": null,
      "outputs": []
    },
    {
      "cell_type": "code",
      "source": [
        "prediction = []\n",
        "classes = [ \"0\",\"1\", \"2\", \"3\", \"4\", \"5\", \"6\", \"7\", \"8\", \"9\", \"10\"]\n",
        "for i in tqdm(range(10)):\n",
        "    img = image.load_img('../input/image-classification-2/test/'+'Image_test_00000' + str(i) +'.jpg', target_size= None, grayscale=False)\n",
        "    resized_image = img.resize((60,60))\n",
        "    img = image.img_to_array(resized_image)\n",
        "    img = img/255\n",
        "    proba = model.predict(img.reshape(1,60,60,3))\n",
        "    top_1 = np.argsort(proba[0])[:-4:-1]\n",
        "    prediction.append(\"{}\".format(classes[top_1[0]]))\n",
        "for i in tqdm(range(10,100)):\n",
        "    img = image.load_img('../input/image-classification-2/test/'+'Image_test_0000' + str(i) +'.jpg', target_size= None, grayscale=False)\n",
        "    resized_image = img.resize((60,60))\n",
        "    img = image.img_to_array(resized_image)\n",
        "    img = img/255\n",
        "    proba = model.predict(img.reshape(1,60,60,3))\n",
        "    top_1 = np.argsort(proba[0])[:-4:-1]\n",
        "    prediction.append(\"{}\".format(classes[top_1[0]]))\n",
        "for i in tqdm(range(100,1000)):\n",
        "    img = image.load_img('../input/image-classification-2/test/'+'Image_test_000' + str(i) +'.jpg', target_size=None, grayscale=False)\n",
        "    resized_image = img.resize((60,60))\n",
        "    img = image.img_to_array(resized_image)\n",
        "    img = img/255\n",
        "    proba = model.predict(img.reshape(1,60,60,3))\n",
        "    top_1 = np.argsort(proba[0])[:-4:-1]\n",
        "    prediction.append(\"{}\".format(classes[top_1[0]]))\n",
        "for i in tqdm(range(1000,10000)):\n",
        "    if os.path.exists('../input/image-classification-2/test/'+'Image_test_00' + str(i) +'.jpg'):\n",
        "       img = image.load_img('../input/image-classification-2/test/'+'Image_test_00' + str(i) +'.jpg', target_size= None, grayscale=False)\n",
        "    else :\n",
        "       continue\n",
        "    resized_image = img.resize((60,60))\n",
        "    img = image.img_to_array(resized_image)\n",
        "    img = img/255\n",
        "    proba = model.predict(img.reshape(1,60,60,3))\n",
        "    top_1 = np.argsort(proba[0])[:-4:-1]\n",
        "    prediction.append(\"{}\".format(classes[top_1[0]]))\n",
        "for i in tqdm(range(10000,18229)):\n",
        "    if os.path.exists('../input/image-classification-2/test/'+'Image_test_0' + str(i) +'.jpg'):\n",
        "      img = image.load_img('../input/image-classification-2/test/'+'Image_test_0' + str(i) +'.jpg', target_size= None, grayscale=False)\n",
        "    else :\n",
        "       continue\n",
        "    resized_image = img.resize((60,60))\n",
        "    img = image.img_to_array(resized_image)\n",
        "    img = img/255\n",
        "    proba = model.predict(img.reshape(1,60,60,3))\n",
        "    top_1 = np.argsort(proba[0])[:-4:-1]\n",
        "    prediction.append(\"{}\".format(classes[top_1[0]]))\n"
      ],
      "metadata": {
        "execution": {
          "iopub.status.busy": "2022-03-24T13:58:45.073349Z",
          "iopub.execute_input": "2022-03-24T13:58:45.073756Z",
          "iopub.status.idle": "2022-03-24T14:37:02.66997Z",
          "shell.execute_reply.started": "2022-03-24T13:58:45.073718Z",
          "shell.execute_reply": "2022-03-24T14:37:02.669034Z"
        },
        "trusted": true,
        "id": "45RNnvl4ujrt"
      },
      "execution_count": null,
      "outputs": []
    },
    {
      "cell_type": "code",
      "source": [
        "sample = pd.read_csv('../input/image-classification-2/sample_submission.csv')"
      ],
      "metadata": {
        "execution": {
          "iopub.status.busy": "2022-03-24T14:40:08.535482Z",
          "iopub.execute_input": "2022-03-24T14:40:08.535846Z",
          "iopub.status.idle": "2022-03-24T14:40:08.579294Z",
          "shell.execute_reply.started": "2022-03-24T14:40:08.535811Z",
          "shell.execute_reply": "2022-03-24T14:40:08.578328Z"
        },
        "trusted": true,
        "id": "vyLc2N92ujrt"
      },
      "execution_count": null,
      "outputs": []
    },
    {
      "cell_type": "code",
      "source": [
        "\n",
        "sample['label'] = prediction\n",
        "sample.to_csv('submission.csv', header=True, index=False)"
      ],
      "metadata": {
        "execution": {
          "iopub.status.busy": "2022-03-24T14:40:10.54792Z",
          "iopub.execute_input": "2022-03-24T14:40:10.54827Z",
          "iopub.status.idle": "2022-03-24T14:40:10.609271Z",
          "shell.execute_reply.started": "2022-03-24T14:40:10.548234Z",
          "shell.execute_reply": "2022-03-24T14:40:10.608435Z"
        },
        "trusted": true,
        "id": "_IvYtm3Yujrt"
      },
      "execution_count": null,
      "outputs": []
    }
  ]
}